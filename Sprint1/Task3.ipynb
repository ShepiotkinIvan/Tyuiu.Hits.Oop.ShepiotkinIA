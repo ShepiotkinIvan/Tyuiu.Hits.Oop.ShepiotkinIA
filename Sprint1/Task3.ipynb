{
 "cells": [
  {
   "cell_type": "markdown",
   "metadata": {},
   "source": [
    "<h1 style=\"color:DodgerBlue\">Индивидальный проект</h1>"
   ]
  },
  {
   "cell_type": "markdown",
   "metadata": {},
   "source": [
    "<h2 style=\"color:DodgerBlue\">Название проекта: \"Управление подписками на услуги\"</h2>\n",
    "\n",
    "----\n",
    "\n",
    "### Вариант задания №19\n"
   ]
  },
  {
   "cell_type": "markdown",
   "metadata": {},
   "source": [
    "<h2 style=\"color:DodgerBlue\">Описание проекта:</h2>\n",
    "\n",
    "----\n",
    "\n",
    "Создать базовый класс Subscription в C#, который будет представлять подписки на\n",
    "различные услуги. На основе этого класса разработать 2-3 производных класса,\n",
    "демонстрирующих принципы наследования и полиморфизма. В каждом из классов\n",
    "должны быть реализованы новые атрибуты и методы, а также переопределены\n",
    "некоторые методы базового класса для демонстрации полиморфизма.\n",
    "Требования к базовому классу Subscription:\n",
    "• Атрибуты: ID подписки (SubscriptionId), Название услуги (ServiceName),\n",
    "Стоимость подписки (Cost).\n",
    "• Методы:\n",
    "o CalculateMonthlyCost(): метод для расчета ежемесячной стоимости\n",
    "подписки.\n",
    "o ExtendSubscription(): метод для продления подписки на\n",
    "дополнительный период.\n",
    "o GetSubscriptionDetails(): метод для получения деталей подписки.\n",
    "Требования к производным классам:\n",
    "1. Подписка на онлайн сервис (OnlineServiceSubscription): Должна содержать\n",
    "дополнительные атрибуты, такие как Количество доступных пользователей\n",
    "(MaxUsers). Метод CalculateMonthlyCost() должен быть переопределен для\n",
    "учета количества пользователей при расчете стоимости.\n",
    "2. Подписка на стриминг (StreamingSubscription): Должна содержать\n",
    "дополнительные атрибуты, такие как Количество одновременных потоков\n",
    "(MaxStreams). Метод ExtendSubscription() должен быть переопределен для\n",
    "добавления специальных предложений для продления подписки.\n",
    "3. Подписка на видео (VideoSubscription) (если требуется третий класс): Должна\n",
    "содержать дополнительные атрибуты, такие как Качество видео\n",
    "(VideoQuality). Метод GetSubscriptionDetails() должен быть переопределен\n",
    "для отображения качества видео вместе с другими деталями подписки.\n",
    "\n",
    "#### Дополнительное задание\n",
    "Добавьте к сущестующим классам конструктора классов с использованием гетторов и сетторов и реализуйте взаимодействие объектов между собой"
   ]
  },
  {
   "cell_type": "markdown",
   "metadata": {},
   "source": [
    "<h2 style=\"color:DodgerBlue\">Реализация:</h2>\n",
    "\n",
    "----"
   ]
  },
  {
   "cell_type": "code",
   "execution_count": 1,
   "metadata": {
    "dotnet_interactive": {
     "language": "csharp"
    },
    "polyglot_notebook": {
     "kernelName": "csharp"
    }
   },
   "outputs": [
    {
     "name": "stdout",
     "output_type": "stream",
     "text": [
      "Детали подписки на онлайн сервис:\n",
      "ID подписки: 1\n",
      "Название услуги: Подписка на онлайн сервис\n",
      "Стоимость подсписки: 10\n",
      "Общая ежемесячная стоимость: 50\n",
      "\n",
      "Детали подписки на стриминг:\n",
      "ID подписки: 2\n",
      "Название услуги: Подписка на стриминг\n",
      "Стоимость подсписки: 15\n",
      "Специальное предложение: Продлите подписку к новому эксклюзивному контенту, всего за 10$!\n",
      "\n",
      "Детали подписки на видео:\n",
      "ID подписки: 3\n",
      "Название услуги: Подписка на видео\n",
      "Стоимость подсписки: 8\n",
      "Качество видео: HD\n"
     ]
    }
   ],
   "source": [
    "public class Subscription\n",
    "{\n",
    "    private int SubscriptionId { get; set; }\n",
    "    private string ServiceName { get; set; }\n",
    "    protected double Cost { get; set; }\n",
    "\n",
    "    public Subscription(int ID, string Name, double Cost)\n",
    "    {\n",
    "        SubscriptionId = ID;\n",
    "        ServiceName = Name;\n",
    "        this.Cost = Cost;\n",
    "    }\n",
    "\n",
    "    public virtual double CalculateMonthlyCost()\n",
    "    {\n",
    "        return Cost;\n",
    "    }\n",
    "\n",
    "    public virtual void ExtendSubscription()\n",
    "    {\n",
    "        Console.WriteLine(\"Вы успешно продлили ежемесячную подписку!\");\n",
    "    }\n",
    "\n",
    "    public virtual void GetSubscriptionDetails()\n",
    "    {\n",
    "        Console.WriteLine($\"ID подписки: {SubscriptionId}\");\n",
    "        Console.WriteLine($\"Название услуги: {ServiceName}\");\n",
    "        Console.WriteLine($\"Стоимость подсписки: {Cost}\");\n",
    "    }\n",
    "}\n",
    "\n",
    "public class OnlineServiceSubscription : Subscription \n",
    "{\n",
    "    private int MaxUsers { get; set; }\n",
    "\n",
    "    public OnlineServiceSubscription(int ID, string Name, double Cost, int MaxUsers) : base(ID, Name, Cost)\n",
    "    {\n",
    "        this.MaxUsers = MaxUsers;\n",
    "    }\n",
    "\n",
    "    public override double CalculateMonthlyCost()\n",
    "    {\n",
    "        return Cost * MaxUsers;\n",
    "    }\n",
    "}\n",
    "\n",
    "public class StreamingSubscription : Subscription\n",
    "{\n",
    "    private int MaxStreams { get; set; }\n",
    "\n",
    "    public StreamingSubscription(int ID, string Name, double Cost, int MaxStreams) : base(ID, Name, Cost)\n",
    "    {\n",
    "        this.MaxStreams = MaxStreams;\n",
    "    }\n",
    "\n",
    "    public override void ExtendSubscription()\n",
    "    {\n",
    "        Console.WriteLine(\"Специальное предложение: Продлите подписку к новому эксклюзивному контенту, всего за 10$!\");\n",
    "    }\n",
    "}\n",
    "\n",
    "public class VideoSubscription : Subscription\n",
    "{\n",
    "    private string VideoQuality { get; set; }\n",
    "\n",
    "    public VideoSubscription(int ID, string Name, double Cost, string VideoQuality) : base(ID, Name, Cost)\n",
    "    {\n",
    "        this.VideoQuality = VideoQuality;\n",
    "    }\n",
    "\n",
    "    public override void GetSubscriptionDetails()\n",
    "    {\n",
    "        base.GetSubscriptionDetails();\n",
    "        Console.WriteLine($\"Качество видео: {VideoQuality}\");\n",
    "    }\n",
    "}\n",
    "\n",
    "OnlineServiceSubscription onlineServiceSubscription = new OnlineServiceSubscription(1, \"Подписка на онлайн сервис\", 10.0, 5);\n",
    "StreamingSubscription streamingSubscription = new StreamingSubscription(2, \"Подписка на стриминг\", 15.0, 3);\n",
    "VideoSubscription videoSubscription = new VideoSubscription(3, \"Подписка на видео\", 8.0, \"HD\");\n",
    "\n",
    "Console.WriteLine(\"Детали подписки на онлайн сервис:\");\n",
    "onlineServiceSubscription.GetSubscriptionDetails();\n",
    "Console.WriteLine($\"Общая ежемесячная стоимость: {onlineServiceSubscription.CalculateMonthlyCost()}\");\n",
    "\n",
    "Console.WriteLine();\n",
    "\n",
    "Console.WriteLine(\"Детали подписки на стриминг:\");\n",
    "streamingSubscription.GetSubscriptionDetails();\n",
    "streamingSubscription.ExtendSubscription();\n",
    "\n",
    "Console.WriteLine();\n",
    "Console.WriteLine(\"Детали подписки на видео:\");\n",
    "videoSubscription.GetSubscriptionDetails();"
   ]
  }
 ],
 "metadata": {
  "kernelspec": {
   "display_name": ".NET (C#)",
   "language": "C#",
   "name": ".net-csharp"
  },
  "polyglot_notebook": {
   "kernelInfo": {
    "defaultKernelName": "csharp",
    "items": [
     {
      "aliases": [],
      "languageName": "csharp",
      "name": "csharp"
     }
    ]
   }
  }
 },
 "nbformat": 4,
 "nbformat_minor": 2
}
