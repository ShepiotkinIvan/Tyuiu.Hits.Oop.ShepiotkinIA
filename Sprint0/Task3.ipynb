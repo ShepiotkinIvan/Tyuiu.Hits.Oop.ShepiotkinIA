{
 "cells": [
  {
   "cell_type": "markdown",
   "metadata": {},
   "source": [
    "<h1 style=\"color:DodgerBlue\">Индивидальный проект</h1>"
   ]
  },
  {
   "cell_type": "markdown",
   "metadata": {},
   "source": [
    "<h2 style=\"color:DodgerBlue\">Название проекта: \"Управление подписками на услуги\"</h2>\n",
    "\n",
    "----\n",
    "\n",
    "### Вариант задания № 19\n"
   ]
  },
  {
   "cell_type": "markdown",
   "metadata": {},
   "source": [
    "<h2 style=\"color:DodgerBlue\">Описание проекта:</h2>\n",
    "\n",
    "----\n",
    "\n",
    "Создать базовый класс Subscription в C#, который будет представлять подписки на\n",
    "различные услуги. На основе этого класса разработать 2-3 производных класса,\n",
    "демонстрирующих принципы наследования и полиморфизма. В каждом из классов\n",
    "должны быть реализованы новые атрибуты и методы, а также переопределены\n",
    "некоторые методы базового класса для демонстрации полиморфизма.\n",
    "Требования к базовому классу Subscription:\n",
    "• Атрибуты: ID подписки (SubscriptionId), Название услуги (ServiceName),\n",
    "Стоимость подписки (Cost).\n",
    "• Методы:\n",
    "o CalculateMonthlyCost(): метод для расчета ежемесячной стоимости\n",
    "подписки.\n",
    "o ExtendSubscription(): метод для продления подписки на\n",
    "дополнительный период.\n",
    "o GetSubscriptionDetails(): метод для получения деталей подписки.\n",
    "Требования к производным классам:\n",
    "1. Подписка на онлайн сервис (OnlineServiceSubscription): Должна содержать\n",
    "дополнительные атрибуты, такие как Количество доступных пользователей\n",
    "(MaxUsers). Метод CalculateMonthlyCost() должен быть переопределен для\n",
    "учета количества пользователей при расчете стоимости.\n",
    "2. Подписка на стриминг (StreamingSubscription): Должна содержать\n",
    "дополнительные атрибуты, такие как Количество одновременных потоков\n",
    "(MaxStreams). Метод ExtendSubscription() должен быть переопределен для\n",
    "добавления специальных предложений для продления подписки.\n",
    "3. Подписка на видео (VideoSubscription) (если требуется третий класс): Должна\n",
    "содержать дополнительные атрибуты, такие как Качество видео\n",
    "(VideoQuality). Метод GetSubscriptionDetails() должен быть переопределен\n",
    "для отображения качества видео вместе с другими деталями подписки.\n"
   ]
  },
  {
   "cell_type": "markdown",
   "metadata": {},
   "source": [
    "<h2 style=\"color:DodgerBlue\">Реализация:</h2>\n",
    "\n",
    "----"
   ]
  },
  {
   "cell_type": "code",
   "execution_count": 2,
   "metadata": {
    "dotnet_interactive": {
     "language": "csharp"
    },
    "polyglot_notebook": {
     "kernelName": "csharp"
    }
   },
   "outputs": [],
   "source": [
    "public class Subscription\n",
    "    {\n",
    "        public int SubscriptionId { get; set; }\n",
    "        public string ServiceName { get; set; }\n",
    "        public double Cost { get; set; }\n",
    "\n",
    "        public virtual double CalculateMonthlyCost()\n",
    "        {\n",
    "            return Cost;\n",
    "        }\n",
    "\n",
    "        public virtual void ExtendSubscription()\n",
    "        {\n",
    "            Console.WriteLine(\"Вы успешно продлили ежемесячную подписку!\");\n",
    "        }\n",
    "\n",
    "        public virtual void GetSubscriptionDetails()\n",
    "        {\n",
    "            Console.WriteLine($\"ID подписки: {SubscriptionId}\");\n",
    "            Console.WriteLine($\"Название услуги: {ServiceName}\");\n",
    "            Console.WriteLine($\"Стоимость подсписки: {Cost}\");\n",
    "        }\n",
    "    }\n",
    "\n",
    "    // Производный класс OnlineServiceSubscription Подписка на онлайн сервис\n",
    "    public class OnlineServiceSubscription : Subscription\n",
    "    {\n",
    "        public int MaxUsers { get; set; }\n",
    "\n",
    "        public override double CalculateMonthlyCost()\n",
    "        {\n",
    "            return Cost * MaxUsers;\n",
    "        }\n",
    "    }\n",
    "\n",
    "    // Производный класс StreamingSubscription Подписка на стриминг\n",
    "    public class StreamingSubscription : Subscription\n",
    "    {\n",
    "        public int MaxStreams { get; set; }\n",
    "\n",
    "        public override void ExtendSubscription()\n",
    "        {\n",
    "            Console.WriteLine(\"Специальное предложение: Продлите подписку к новому эксклюзивному контенту!\");\n",
    "        }\n",
    "    }\n",
    "\n",
    "    // Производный класс VideoSubscription Подписка на видео\n",
    "    public class VideoSubscription : Subscription\n",
    "    {\n",
    "        public string VideoQuality { get; set; }\n",
    "\n",
    "        public override void GetSubscriptionDetails()\n",
    "        {\n",
    "            Console.WriteLine($\"ID подписки: {SubscriptionId}\");\n",
    "            Console.WriteLine($\"Название услуги: {ServiceName}\");\n",
    "            Console.WriteLine($\"Стоимость подсписки: {Cost}\");\n",
    "            Console.WriteLine($\"Качество видео: {VideoQuality}\");\n",
    "        }\n",
    "    }\n",
    "    class Program\n",
    "    {\n",
    "        static void Main(string[] args)\n",
    "        {\n",
    "            // Пример использования классов\n",
    "            OnlineServiceSubscription onlineSubscription = new OnlineServiceSubscription\n",
    "            {\n",
    "                SubscriptionId = 1,\n",
    "                ServiceName = \"Подписка на онлайн сервис\",\n",
    "                Cost = 10.0,\n",
    "                MaxUsers = 5\n",
    "            };\n",
    "\n",
    "            Console.WriteLine(\"Детали подписки на онлайн сервис:\");\n",
    "            onlineSubscription.GetSubscriptionDetails();\n",
    "            Console.WriteLine($\"Общая ежемесячная стоимость: {onlineSubscription.CalculateMonthlyCost()}\");\n",
    "\n",
    "            StreamingSubscription streamingSubscription = new StreamingSubscription\n",
    "            {\n",
    "                SubscriptionId = 2,\n",
    "                ServiceName = \"Подписка на стриминг\",\n",
    "                Cost = 15.0,\n",
    "                MaxStreams = 3\n",
    "            };\n",
    "\n",
    "            Console.WriteLine(\"\\n\" + \"Детали подписки на стриминг:\");\n",
    "            streamingSubscription.GetSubscriptionDetails();\n",
    "            streamingSubscription.ExtendSubscription();\n",
    "\n",
    "            VideoSubscription videoSubscription = new VideoSubscription\n",
    "            {\n",
    "                SubscriptionId = 3,\n",
    "                ServiceName = \"Подписка на видео\",\n",
    "                Cost = 8.0,\n",
    "                VideoQuality = \"HD\"\n",
    "            };\n",
    "\n",
    "            Console.WriteLine(\"\\n\" + \"Детали подписки на видео:\");\n",
    "            videoSubscription.GetSubscriptionDetails();\n",
    "        }\n",
    "    }"
   ]
  }
 ],
 "metadata": {
  "kernelspec": {
   "display_name": ".NET (C#)",
   "language": "C#",
   "name": ".net-csharp"
  },
  "polyglot_notebook": {
   "kernelInfo": {
    "defaultKernelName": "csharp",
    "items": [
     {
      "aliases": [],
      "languageName": "csharp",
      "name": "csharp"
     }
    ]
   }
  }
 },
 "nbformat": 4,
 "nbformat_minor": 2
}
